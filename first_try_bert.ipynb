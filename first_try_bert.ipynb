{
 "cells": [
  {
   "cell_type": "markdown",
   "id": "80dc6c01",
   "metadata": {},
   "source": [
    "## performing sentiment classification using BERT\n",
    " (from film reviews)\n",
    "## Steps :\n",
    "1) using DistilBERT which is a lighter version of BERT to process the text (then BERT and Large BERT)            \n",
    "2) classify the reviews using Logistic Regression from Scikit-Learn as either positive (1) or negative (0)"
   ]
  },
  {
   "cell_type": "markdown",
   "id": "f99ffd53",
   "metadata": {},
   "source": [
    "## Importing the dataset"
   ]
  },
  {
   "cell_type": "code",
   "execution_count": 76,
   "id": "f0d39584",
   "metadata": {},
   "outputs": [
    {
     "data": {
      "text/html": [
       "<div>\n",
       "<style scoped>\n",
       "    .dataframe tbody tr th:only-of-type {\n",
       "        vertical-align: middle;\n",
       "    }\n",
       "\n",
       "    .dataframe tbody tr th {\n",
       "        vertical-align: top;\n",
       "    }\n",
       "\n",
       "    .dataframe thead th {\n",
       "        text-align: right;\n",
       "    }\n",
       "</style>\n",
       "<table border=\"1\" class=\"dataframe\">\n",
       "  <thead>\n",
       "    <tr style=\"text-align: right;\">\n",
       "      <th></th>\n",
       "      <th>review</th>\n",
       "      <th>class</th>\n",
       "    </tr>\n",
       "  </thead>\n",
       "  <tbody>\n",
       "    <tr>\n",
       "      <th>0</th>\n",
       "      <td>a stirring , funny and finally transporting re...</td>\n",
       "      <td>1</td>\n",
       "    </tr>\n",
       "    <tr>\n",
       "      <th>1</th>\n",
       "      <td>apparently reassembled from the cutting room f...</td>\n",
       "      <td>0</td>\n",
       "    </tr>\n",
       "    <tr>\n",
       "      <th>2</th>\n",
       "      <td>they presume their audience wo n't sit still f...</td>\n",
       "      <td>0</td>\n",
       "    </tr>\n",
       "    <tr>\n",
       "      <th>3</th>\n",
       "      <td>this is a visually stunning rumination on love...</td>\n",
       "      <td>1</td>\n",
       "    </tr>\n",
       "    <tr>\n",
       "      <th>4</th>\n",
       "      <td>jonathan parker 's bartleby should have been t...</td>\n",
       "      <td>1</td>\n",
       "    </tr>\n",
       "    <tr>\n",
       "      <th>...</th>\n",
       "      <td>...</td>\n",
       "      <td>...</td>\n",
       "    </tr>\n",
       "    <tr>\n",
       "      <th>6915</th>\n",
       "      <td>painful , horrifying and oppressively tragic ,...</td>\n",
       "      <td>1</td>\n",
       "    </tr>\n",
       "    <tr>\n",
       "      <th>6916</th>\n",
       "      <td>take care is nicely performed by a quintet of ...</td>\n",
       "      <td>0</td>\n",
       "    </tr>\n",
       "    <tr>\n",
       "      <th>6917</th>\n",
       "      <td>the script covers huge , heavy topics in a bla...</td>\n",
       "      <td>0</td>\n",
       "    </tr>\n",
       "    <tr>\n",
       "      <th>6918</th>\n",
       "      <td>a seriously bad film with seriously warped log...</td>\n",
       "      <td>0</td>\n",
       "    </tr>\n",
       "    <tr>\n",
       "      <th>6919</th>\n",
       "      <td>a deliciously nonsensical comedy about a city ...</td>\n",
       "      <td>1</td>\n",
       "    </tr>\n",
       "  </tbody>\n",
       "</table>\n",
       "<p>6920 rows × 2 columns</p>\n",
       "</div>"
      ],
      "text/plain": [
       "                                                 review  class\n",
       "0     a stirring , funny and finally transporting re...      1\n",
       "1     apparently reassembled from the cutting room f...      0\n",
       "2     they presume their audience wo n't sit still f...      0\n",
       "3     this is a visually stunning rumination on love...      1\n",
       "4     jonathan parker 's bartleby should have been t...      1\n",
       "...                                                 ...    ...\n",
       "6915  painful , horrifying and oppressively tragic ,...      1\n",
       "6916  take care is nicely performed by a quintet of ...      0\n",
       "6917  the script covers huge , heavy topics in a bla...      0\n",
       "6918  a seriously bad film with seriously warped log...      0\n",
       "6919  a deliciously nonsensical comedy about a city ...      1\n",
       "\n",
       "[6920 rows x 2 columns]"
      ]
     },
     "execution_count": 76,
     "metadata": {},
     "output_type": "execute_result"
    }
   ],
   "source": [
    "import pandas as pd\n",
    "data=pd.read_csv(\"train.csv\",delimiter=\"\\t\", header=None,names=[\"review\",\"class\"])\n",
    "data"
   ]
  },
  {
   "cell_type": "code",
   "execution_count": 77,
   "id": "dfe5fa3c",
   "metadata": {},
   "outputs": [],
   "source": [
    "batch_1=data[:2000]"
   ]
  },
  {
   "cell_type": "code",
   "execution_count": 78,
   "id": "94ee126e",
   "metadata": {},
   "outputs": [
    {
     "name": "stdout",
     "output_type": "stream",
     "text": [
      "class 1 :\n",
      "review    1041\n",
      "class     1041\n",
      "dtype: int64\n",
      "\n",
      "class 0 :\n",
      "review    959\n",
      "class     959\n",
      "dtype: int64\n"
     ]
    },
    {
     "data": {
      "text/plain": [
       "1    1041\n",
       "0     959\n",
       "Name: class, dtype: int64"
      ]
     },
     "execution_count": 78,
     "metadata": {},
     "output_type": "execute_result"
    }
   ],
   "source": [
    "# how many sentiments are labeled as \"positive\" and how many are labeled \"negative\"\n",
    "print(\"class 1 :\")\n",
    "print(batch_1[batch_1[\"class\"]==1].count())\n",
    "print()\n",
    "print(\"class 0 :\")\n",
    "print(batch_1[batch_1[\"class\"]==0].count())\n",
    "# or :\n",
    "batch_1[\"class\"].value_counts()"
   ]
  },
  {
   "cell_type": "markdown",
   "id": "264f35b2",
   "metadata": {},
   "source": [
    "## Loading the pretrained BERT model"
   ]
  },
  {
   "cell_type": "markdown",
   "id": "45c586ee",
   "metadata": {},
   "source": [
    "### Importing relevant libraries (bert)"
   ]
  },
  {
   "cell_type": "code",
   "execution_count": 79,
   "id": "2b4eb22a",
   "metadata": {},
   "outputs": [],
   "source": [
    "import numpy as np\n",
    "import torch\n",
    "import transformers\n",
    "import warnings\n",
    "warnings.filterwarnings('ignore')"
   ]
  },
  {
   "cell_type": "markdown",
   "id": "df962975",
   "metadata": {},
   "source": [
    "<a id=\"switch-model\"></a>"
   ]
  },
  {
   "cell_type": "code",
   "execution_count": 80,
   "id": "697dcdd2",
   "metadata": {},
   "outputs": [
    {
     "name": "stderr",
     "output_type": "stream",
     "text": [
      "Some weights of the model checkpoint at distilbert-base-uncased were not used when initializing DistilBertModel: ['vocab_transform.bias', 'vocab_transform.weight', 'vocab_projector.weight', 'vocab_layer_norm.bias', 'vocab_layer_norm.weight', 'vocab_projector.bias']\n",
      "- This IS expected if you are initializing DistilBertModel from the checkpoint of a model trained on another task or with another architecture (e.g. initializing a BertForSequenceClassification model from a BertForPreTraining model).\n",
      "- This IS NOT expected if you are initializing DistilBertModel from the checkpoint of a model that you expect to be exactly identical (initializing a BertForSequenceClassification model from a BertForSequenceClassification model).\n"
     ]
    }
   ],
   "source": [
    "#for DistilBERT:\n",
    "model_class,tokenizer_class,pretrained_weights=(transformers.DistilBertModel,transformers.DistilBertTokenizer,'distilbert-base-uncased')\n",
    "\n",
    "#for BERT:\n",
    "#model_class, tokenizer_class, pretrained_weights = (transformers.BertModel, transformers.BertTokenizer, 'bert-base-uncased')\n",
    "\n",
    "#for Large BERT :\n",
    "#model_class, tokenizer_class, pretrained_weights = (transformers.BertModel, transformers.BertTokenizer, 'bert-large-uncased')\n",
    "\n",
    "tokenizer=tokenizer_class.from_pretrained(pretrained_weights) # create an instance of the DistilBertTokenizer class\n",
    "model=model_class.from_pretrained(pretrained_weights)"
   ]
  },
  {
   "cell_type": "markdown",
   "id": "52015a75",
   "metadata": {},
   "source": [
    "## tokenization\n",
    "the input text is to be converted into a format that can be processed by the BERT model (encoding)"
   ]
  },
  {
   "cell_type": "code",
   "execution_count": 81,
   "id": "810d0b3c",
   "metadata": {},
   "outputs": [
    {
     "data": {
      "text/plain": [
       "'special tokens include:\\n* the [CLS] token at the beginning, which is a classification token that indicates the start of the input,\\n* and the [SEP] token at the end, which is a separator token that indicates the end of the input\\n\\nOUTPUT: a list of sentences, each sentences is represented as a list of tokens\\n'"
      ]
     },
     "execution_count": 81,
     "metadata": {},
     "output_type": "execute_result"
    }
   ],
   "source": [
    "# tokenizing the text (splitting it into tokens) in the column using the pre-trained tokenizer, \n",
    "# and adding special tokens to the beginning and end of the tokenized sequences\n",
    "tokenized=batch_1[\"review\"].apply((lambda x: tokenizer.encode(x,add_special_tokens=True)))\n",
    "\n",
    "\"\"\"special tokens include:\n",
    "* the [CLS] token at the beginning, which is a classification token that indicates the start of the input,\n",
    "* and the [SEP] token at the end, which is a separator token that indicates the end of the input\n",
    "\n",
    "OUTPUT: a list of sentences, each sentences is represented as a list of tokens\n",
    "\"\"\""
   ]
  },
  {
   "cell_type": "code",
   "execution_count": 82,
   "id": "5721b9ae",
   "metadata": {},
   "outputs": [
    {
     "name": "stdout",
     "output_type": "stream",
     "text": [
      "[101, 1037, 18385, 1010, 6057, 1998, 2633, 18276, 2128, 16603, 1997, 5053, 1998, 1996, 6841, 1998, 5687, 5469, 3152, 102]\n",
      "[101, 4593, 2128, 27241, 23931, 2013, 1996, 6276, 2282, 2723, 1997, 2151, 2445, 12217, 7815, 102]\n",
      "\n",
      "[list([101, 1037, 18385, 1010, 6057, 1998, 2633, 18276, 2128, 16603, 1997, 5053, 1998, 1996, 6841, 1998, 5687, 5469, 3152, 102])\n",
      " list([101, 4593, 2128, 27241, 23931, 2013, 1996, 6276, 2282, 2723, 1997, 2151, 2445, 12217, 7815, 102])\n",
      " list([101, 2027, 3653, 23545, 2037, 4378, 24185, 1050, 1005, 1056, 4133, 2145, 2005, 1037, 11507, 10800, 1010, 2174, 14036, 2135, 3591, 1010, 2061, 2027, 19817, 4140, 2041, 1996, 7511, 2671, 4349, 3787, 1997, 11829, 7168, 9219, 1998, 28971, 2308, 1999, 8301, 8737, 2100, 4253, 102])\n",
      " ...\n",
      " list([101, 2023, 2028, 8704, 2005, 1996, 11848, 1998, 7644, 1037, 3622, 2718, 102])\n",
      " list([101, 1999, 1996, 2171, 1997, 2019, 9382, 18988, 1998, 4089, 3006, 3085, 17312, 1010, 1996, 3750, 1005, 1055, 2252, 4332, 1037, 6397, 3239, 2000, 1996, 2200, 2381, 2009, 9811, 2015, 2000, 6570, 102])\n",
      " list([101, 1996, 3185, 2003, 25757, 2011, 1037, 24466, 16134, 2008, 1005, 1055, 2074, 6388, 2438, 2000, 7344, 3686, 1996, 7731, 4378, 2096, 13060, 18856, 17322, 2094, 2000, 15015, 10271, 4641, 102])]\n"
     ]
    }
   ],
   "source": [
    "print(tokenized[0])\n",
    "print(tokenized[1])\n",
    "# each token is expressed as an integer\n",
    "# [CLS] index is 101 and [SEP] ind is 102\n",
    "print()\n",
    "print(tokenized.values)\n",
    "# a list of lists\n",
    "# lists don't have the same length !"
   ]
  },
  {
   "cell_type": "markdown",
   "id": "02c08a9c",
   "metadata": {},
   "source": [
    "## padding\n",
    "pad all lists to the same size to feed them to the model at once (we need to add extra elements to the shorter lists so that all lists have the same length)"
   ]
  },
  {
   "cell_type": "code",
   "execution_count": 83,
   "id": "44a4ebdd",
   "metadata": {},
   "outputs": [
    {
     "name": "stdout",
     "output_type": "stream",
     "text": [
      "59\n"
     ]
    },
    {
     "data": {
      "text/plain": [
       "array([[  101,  1037, 18385, ...,     0,     0,     0],\n",
       "       [  101,  4593,  2128, ...,     0,     0,     0],\n",
       "       [  101,  2027,  3653, ...,     0,     0,     0],\n",
       "       ...,\n",
       "       [  101,  2023,  2028, ...,     0,     0,     0],\n",
       "       [  101,  1999,  1996, ...,     0,     0,     0],\n",
       "       [  101,  1996,  3185, ...,     0,     0,     0]])"
      ]
     },
     "execution_count": 83,
     "metadata": {},
     "output_type": "execute_result"
    }
   ],
   "source": [
    "# we want to retrieve max len by itering over lists in tokenized\n",
    "max_len=len(tokenized.values[0])\n",
    "for lst in tokenized.values:\n",
    "    if len(lst)>max_len:\n",
    "        max_len=len(lst)\n",
    "print(max_len)\n",
    "\n",
    "### adding 0 in the ending of each list in order to have all lists with same len which is 59\n",
    "# matrix (2000, 59)\n",
    "padded=np.array([lst+ [0]*(max_len-len(lst)) for lst in tokenized.values])\n",
    "padded"
   ]
  },
  {
   "cell_type": "code",
   "execution_count": 84,
   "id": "e35d22b9",
   "metadata": {},
   "outputs": [
    {
     "data": {
      "text/plain": [
       "(2000, 59)"
      ]
     },
     "execution_count": 84,
     "metadata": {},
     "output_type": "execute_result"
    }
   ],
   "source": [
    "padded.shape"
   ]
  },
  {
   "cell_type": "markdown",
   "id": "ea4ad950",
   "metadata": {},
   "source": [
    "## masking\n",
    "The attention_mask is an array of the same shape as the padded array that contains only 0 and 1. The purpose of the attention_mask is to indicate to the BERT model which tokens in the padded array correspond to real input (i.e., the original sequence) and which tokens correspond to padding, assuming that padding tokens do not carry any meaningful information..."
   ]
  },
  {
   "cell_type": "code",
   "execution_count": 85,
   "id": "b698a8e2",
   "metadata": {},
   "outputs": [
    {
     "name": "stdout",
     "output_type": "stream",
     "text": [
      "(2000, 59)\n"
     ]
    },
    {
     "data": {
      "text/plain": [
       "array([[1, 1, 1, ..., 0, 0, 0],\n",
       "       [1, 1, 1, ..., 0, 0, 0],\n",
       "       [1, 1, 1, ..., 0, 0, 0],\n",
       "       ...,\n",
       "       [1, 1, 1, ..., 0, 0, 0],\n",
       "       [1, 1, 1, ..., 0, 0, 0],\n",
       "       [1, 1, 1, ..., 0, 0, 0]])"
      ]
     },
     "execution_count": 85,
     "metadata": {},
     "output_type": "execute_result"
    }
   ],
   "source": [
    "\"\"\"we'll create a binary mask, an array where each element is 1 \n",
    "if the corresponding element of the padded array is non-zero (i.e. a real token) \n",
    "and 0 otherwise (i.e. a padding token)\n",
    "\"\"\"\n",
    "attention_mask = np.where(padded!= 0, 1, 0) # if !=0 assign 1, 0 otherwise\n",
    "print(attention_mask.shape)\n",
    "attention_mask"
   ]
  },
  {
   "cell_type": "markdown",
   "id": "f6458c7a",
   "metadata": {},
   "source": [
    "## Implementing the model"
   ]
  },
  {
   "cell_type": "code",
   "execution_count": 86,
   "id": "3d7a83ab",
   "metadata": {},
   "outputs": [
    {
     "data": {
      "text/plain": [
       "'last_hidden_states tensor contains the final hidden states of all tokens in the input sentences,\\nwhere each token is represented by a 768-dimensional vector (bert:12 layers x 12 heads x 64 dimensions per head)\\nPS: BERT large model has 24 layers, each with 1,024 hidden units\\n'"
      ]
     },
     "execution_count": 86,
     "metadata": {},
     "output_type": "execute_result"
    }
   ],
   "source": [
    "inputs=torch.tensor(padded)\n",
    "attention_mask=torch.tensor(attention_mask)\n",
    "\n",
    "with torch.no_grad():\n",
    "    last_hidden_states=model(inputs, attention_mask=attention_mask) #generating the final output embeddings of BERT\n",
    "\"\"\"last_hidden_states tensor contains the final hidden states of all tokens in the input sentences,\n",
    "where each token is represented by a 768-dimensional vector (bert:12 layers x 12 heads x 64 dimensions per head)\n",
    "PS: BERT large model has 24 layers, each with 1,024 hidden units\n",
    "\"\"\""
   ]
  },
  {
   "cell_type": "code",
   "execution_count": 87,
   "id": "b941b58c",
   "metadata": {},
   "outputs": [
    {
     "name": "stdout",
     "output_type": "stream",
     "text": [
      "tensor([[[-0.2159, -0.1403,  0.0083,  ..., -0.1369,  0.5867,  0.2011],\n",
      "         [-0.2471,  0.2468,  0.1008,  ..., -0.1631,  0.9349, -0.0715],\n",
      "         [ 0.0558,  0.3573,  0.4140,  ..., -0.2430,  0.1770, -0.5080],\n",
      "         ...,\n",
      "         [-0.0165,  0.1179,  0.3512,  ..., -0.2401,  0.2722, -0.1750],\n",
      "         [ 0.0961,  0.0667,  0.3147,  ..., -0.3277,  0.3556, -0.2135],\n",
      "         [ 0.0454,  0.0519,  0.3168,  ..., -0.2880,  0.1844, -0.1042]],\n",
      "\n",
      "        [[-0.1726, -0.1448,  0.0022,  ..., -0.1744,  0.2139,  0.3720],\n",
      "         [ 0.0022,  0.1684,  0.1269,  ..., -0.1888, -0.0195, -0.0283],\n",
      "         [ 0.0257, -0.2458,  0.0717,  ..., -0.4339,  0.1622,  0.0133],\n",
      "         ...,\n",
      "         [ 0.0505, -0.0493,  0.0463,  ..., -0.0448, -0.0540,  0.3136],\n",
      "         [-0.2128, -0.1906, -0.0215,  ...,  0.0139, -0.2433, -0.0202],\n",
      "         [-0.1310, -0.1693,  0.1019,  ..., -0.0859, -0.1770, -0.0872]],\n",
      "\n",
      "        [[-0.0506,  0.0720, -0.0296,  ..., -0.0715,  0.7185,  0.2623],\n",
      "         [ 0.0536,  0.3136, -0.0598,  ...,  0.2676,  0.8668, -0.3380],\n",
      "         [ 0.3792,  0.2792,  0.0237,  ...,  0.0343,  0.4272,  0.1680],\n",
      "         ...,\n",
      "         [ 0.2314,  0.2427,  0.1030,  ..., -0.0840,  0.2322,  0.0613],\n",
      "         [ 0.0741,  0.0465,  0.1083,  ...,  0.0530,  0.1971,  0.0233],\n",
      "         [ 0.1042,  0.3139,  0.0768,  ..., -0.0301,  0.1052, -0.0780]],\n",
      "\n",
      "        ...,\n",
      "\n",
      "        [[-0.2783, -0.2480,  0.1359,  ..., -0.1904,  0.1310,  0.3498],\n",
      "         [-0.4406, -0.5159,  0.1700,  ..., -0.3430,  0.3747,  0.0846],\n",
      "         [-0.4604, -0.3928,  0.0390,  ..., -0.3068, -0.1666,  0.2803],\n",
      "         ...,\n",
      "         [-0.2033, -0.2213,  0.2879,  ..., -0.2334, -0.1342,  0.1061],\n",
      "         [-0.0998, -0.2407,  0.1394,  ..., -0.1828, -0.0762,  0.2031],\n",
      "         [-0.0663, -0.1063,  0.1606,  ..., -0.2004, -0.2571,  0.1438]],\n",
      "\n",
      "        [[-0.0367,  0.1064, -0.0111,  ..., -0.1121,  0.4162,  0.5034],\n",
      "         [-0.1869,  0.3485, -0.8375,  ..., -0.1169,  0.3985,  0.3065],\n",
      "         [-0.3108,  0.2174, -0.1678,  ..., -0.1267,  0.3512, -0.0812],\n",
      "         ...,\n",
      "         [ 0.0874,  0.0203,  0.0381,  ...,  0.1545,  0.0125,  0.1109],\n",
      "         [ 0.2528, -0.0149,  0.0847,  ...,  0.0441,  0.1973,  0.2889],\n",
      "         [ 0.2378, -0.0568,  0.2862,  ...,  0.0842,  0.1540,  0.1655]],\n",
      "\n",
      "        [[ 0.1240,  0.0143,  0.0104,  ..., -0.1161,  0.5346,  0.2750],\n",
      "         [ 0.1294, -0.2348, -0.0882,  ...,  0.0997,  1.1743, -0.3309],\n",
      "         [ 0.5874, -0.1074, -0.0561,  ..., -0.0401,  0.3627, -0.4122],\n",
      "         ...,\n",
      "         [ 0.4066, -0.1452,  0.0651,  ...,  0.0879,  0.3980, -0.1256],\n",
      "         [ 0.4385, -0.1488,  0.1139,  ..., -0.0744,  0.3416, -0.3278],\n",
      "         [ 0.5451, -0.0851,  0.1311,  ..., -0.0017,  0.3413, -0.3513]]])\n"
     ]
    },
    {
     "data": {
      "text/plain": [
       "torch.Size([2000, 59, 768])"
      ]
     },
     "execution_count": 87,
     "metadata": {},
     "output_type": "execute_result"
    }
   ],
   "source": [
    "print(last_hidden_states[0]) #the tensor containing the hidden states for all tokens (3 dims!)\n",
    "last_hidden_states[0].shape"
   ]
  },
  {
   "cell_type": "code",
   "execution_count": 88,
   "id": "5d6e0e2f",
   "metadata": {},
   "outputs": [
    {
     "name": "stdout",
     "output_type": "stream",
     "text": [
      "torch.Size([59, 768])\n"
     ]
    },
    {
     "data": {
      "text/plain": [
       "tensor([[-0.2159, -0.1403,  0.0083,  ..., -0.1369,  0.5867,  0.2011],\n",
       "        [-0.2471,  0.2468,  0.1008,  ..., -0.1631,  0.9349, -0.0715],\n",
       "        [ 0.0558,  0.3573,  0.4140,  ..., -0.2430,  0.1770, -0.5080],\n",
       "        ...,\n",
       "        [-0.0165,  0.1179,  0.3512,  ..., -0.2401,  0.2722, -0.1750],\n",
       "        [ 0.0961,  0.0667,  0.3147,  ..., -0.3277,  0.3556, -0.2135],\n",
       "        [ 0.0454,  0.0519,  0.3168,  ..., -0.2880,  0.1844, -0.1042]])"
      ]
     },
     "execution_count": 88,
     "metadata": {},
     "output_type": "execute_result"
    }
   ],
   "source": [
    "# first sentence\n",
    "print(last_hidden_states[0][0].shape)\n",
    "last_hidden_states[0][0]\n",
    "#each row correponds to a column"
   ]
  },
  {
   "cell_type": "markdown",
   "id": "1b8ed0e6",
   "metadata": {},
   "source": [
    "The [CLS] token is added at the beginning of every sentence when using BERT for sentence classification tasks. It is used to represent the entire sentence as an embedding. We can say that the output stored in [CLS] is a vector representation of the entire sentence that is used for the classification task."
   ]
  },
  {
   "cell_type": "code",
   "execution_count": 89,
   "id": "bc180c12",
   "metadata": {},
   "outputs": [
    {
     "data": {
      "text/plain": [
       "array([[-0.21593435, -0.14028923,  0.0083111 , ..., -0.13694862,\n",
       "         0.5867003 ,  0.20112729],\n",
       "       [-0.17262715, -0.14476168,  0.00223415, ..., -0.17442568,\n",
       "         0.21386464,  0.37197477],\n",
       "       [-0.05063343,  0.07203943, -0.02959692, ..., -0.07148942,\n",
       "         0.7185239 ,  0.26225492],\n",
       "       ...,\n",
       "       [-0.27829772, -0.24803595,  0.13585807, ..., -0.19039167,\n",
       "         0.13099585,  0.34978363],\n",
       "       [-0.03667746,  0.10638566, -0.0111101 , ..., -0.11206651,\n",
       "         0.41619456,  0.50337994],\n",
       "       [ 0.12402612,  0.01425173,  0.01038412, ..., -0.11606546,\n",
       "         0.5345916 ,  0.27495354]], dtype=float32)"
      ]
     },
     "execution_count": 89,
     "metadata": {},
     "output_type": "execute_result"
    }
   ],
   "source": [
    "features = last_hidden_states[0][:,0,:].numpy() #accessing the first element [CLS] (col) in each dim (depth) and for each sent(row)\n",
    "features # each list contains all [CLS] from all dim correp to each sent"
   ]
  },
  {
   "cell_type": "code",
   "execution_count": 90,
   "id": "f402557c",
   "metadata": {},
   "outputs": [],
   "source": [
    "labels=batch_1[\"class\"] #1 for positive and 0 for negative"
   ]
  },
  {
   "cell_type": "markdown",
   "id": "d61fd5e1",
   "metadata": {},
   "source": [
    "## training"
   ]
  },
  {
   "cell_type": "code",
   "execution_count": 91,
   "id": "611bb398",
   "metadata": {},
   "outputs": [],
   "source": [
    "from sklearn.model_selection import train_test_split\n",
    "from sklearn.linear_model import LogisticRegression\n",
    "from sklearn.model_selection import GridSearchCV\n",
    "from sklearn import metrics\n",
    "from sklearn.model_selection import cross_val_score"
   ]
  },
  {
   "cell_type": "code",
   "execution_count": 92,
   "id": "6c442f60",
   "metadata": {},
   "outputs": [
    {
     "name": "stdout",
     "output_type": "stream",
     "text": [
      "1500\n",
      "500\n",
      "1500\n",
      "500\n"
     ]
    }
   ],
   "source": [
    "#split the dataset into train dataset and test one\n",
    "X_train,X_test,y_train,y_test=train_test_split(features,labels,test_size=.25,random_state=42)\n",
    "print(len(X_train))\n",
    "print(len(X_test))\n",
    "print(len(y_train))\n",
    "print(len(y_test))"
   ]
  },
  {
   "cell_type": "markdown",
   "id": "2948f8bc",
   "metadata": {},
   "source": [
    "### GridSearchCV to find the best C parameter"
   ]
  },
  {
   "cell_type": "code",
   "execution_count": 93,
   "id": "f1b2a048",
   "metadata": {},
   "outputs": [
    {
     "data": {
      "text/plain": [
       "GridSearchCV(cv=5, estimator=LogisticRegression(), n_jobs=-1,\n",
       "             param_grid={'C': array([1.e-04, 1.e-03, 1.e-02, 1.e-01, 1.e+00, 1.e+01, 1.e+02])})"
      ]
     },
     "execution_count": 93,
     "metadata": {},
     "output_type": "execute_result"
    }
   ],
   "source": [
    "#C_range=10**np.arange(-4.,3.,1)\n",
    "#parameters = {'C': np.linspace(0.0001, 100, 10)}\n",
    "C_range=10.0**np.arange(-4,3,1) # from 10^-4 to 10^2\n",
    "params={'C':C_range}\n",
    "lr=LogisticRegression()\n",
    "gs_lr=GridSearchCV(LogisticRegression(),params,n_jobs=-1,cv=5)\n",
    "gs_lr.fit(X_train,y_train)"
   ]
  },
  {
   "cell_type": "code",
   "execution_count": 94,
   "id": "6dd279ad",
   "metadata": {},
   "outputs": [
    {
     "data": {
      "image/png": "[encoded data removed]",
      "text/plain": [
       "<Figure size 500x500 with 1 Axes>"
      ]
     },
     "metadata": {},
     "output_type": "display_data"
    }
   ],
   "source": [
    "import matplotlib.pyplot as plt\n",
    "scores = gs_lr.cv_results_['mean_test_score']\n",
    "plt.figure(figsize=[5,5])\n",
    "plt.semilogx(C_range,scores)\n",
    "plt.xlabel('C')\n",
    "plt.ylabel('score')\n",
    "plt.grid()\n",
    "plt.show();"
   ]
  },
  {
   "cell_type": "code",
   "execution_count": 95,
   "id": "d25ccf16",
   "metadata": {},
   "outputs": [
    {
     "name": "stdout",
     "output_type": "stream",
     "text": [
      "best estimator :\n",
      "{'C': 1.0}\n",
      "best score:  0.8393333333333335\n"
     ]
    }
   ],
   "source": [
    "print(\"best estimator :\")\n",
    "print(gs_lr.best_params_)\n",
    "print(\"best score: \", gs_lr.best_score_)"
   ]
  },
  {
   "cell_type": "code",
   "execution_count": 96,
   "id": "625f0595",
   "metadata": {},
   "outputs": [
    {
     "name": "stdout",
     "output_type": "stream",
     "text": [
      "fitted\n"
     ]
    }
   ],
   "source": [
    "#best C parameter is C=1\n",
    "# training\n",
    "lr_C=LogisticRegression(C=1)\n",
    "lr_C.fit(X_train,y_train)\n",
    "print(\"fitted\")"
   ]
  },
  {
   "cell_type": "markdown",
   "id": "1ec907e9",
   "metadata": {},
   "source": [
    "# Results &performance"
   ]
  },
  {
   "cell_type": "code",
   "execution_count": 97,
   "id": "576f440a",
   "metadata": {},
   "outputs": [
    {
     "name": "stdout",
     "output_type": "stream",
     "text": [
      "Score on the test set :  0.84\n",
      "\n",
      "Accuracy score :  0.84\n",
      "\n",
      "cross validation mean score : 0.839 (+/- 0.048)\n",
      "\n",
      "Confusion Matrix:\n",
      "[[203  43]\n",
      " [ 37 217]]\n",
      "\n",
      "Some relevant metrics :\n",
      "              precision    recall  f1-score   support\n",
      "\n",
      "           0       0.85      0.83      0.84       246\n",
      "           1       0.83      0.85      0.84       254\n",
      "\n",
      "    accuracy                           0.84       500\n",
      "   macro avg       0.84      0.84      0.84       500\n",
      "weighted avg       0.84      0.84      0.84       500\n",
      "\n"
     ]
    }
   ],
   "source": [
    "y_pred_lr=lr_C.predict(X_test)\n",
    "#the performance on the test set\n",
    "print(\"Score on the test set : \",lr_C.score(X_test,y_test))\n",
    "print()\n",
    "# accuracy score between y_true&y_pred\n",
    "print(\"Accuracy score : \", metrics.accuracy_score(y_test, y_pred_lr))\n",
    "print()\n",
    "scores_LR = cross_val_score(lr_C,X_train,y_train,cv=5)\n",
    "print(\"cross validation mean score : %0.3f (+/- %0.3f)\" % (scores_LR.mean(),2*scores_LR.std()))\n",
    "print()\n",
    "print(\"Confusion Matrix:\")\n",
    "print(metrics.confusion_matrix(y_test,y_pred_lr))\n",
    "print()\n",
    "print(\"Some relevant metrics :\")\n",
    "print(metrics.classification_report(y_test,y_pred_lr)) "
   ]
  },
  {
   "cell_type": "markdown",
   "id": "a672460f",
   "metadata": {},
   "source": [
    "## Possible way of improving results"
   ]
  },
  {
   "cell_type": "markdown",
   "id": "ff4546ee",
   "metadata": {},
   "source": [
    "1) Switching to BERT and then Large-bert , <a href=\"#switch-model\">Clic to switch model</a> by uncommenting appropriate codes.\n",
    "\n",
    "2) Fine-tuning the model which updates BERT's (the three models) weights to achieve a better performance."
   ]
  },
  {
   "cell_type": "markdown",
   "id": "98594991",
   "metadata": {},
   "source": [
    "## BERT results"
   ]
  },
  {
   "cell_type": "code",
   "execution_count": null,
   "id": "7002925f",
   "metadata": {},
   "outputs": [],
   "source": [
    "\"\"\"\n",
    "Score on the test set :  0.856\n",
    "\n",
    "Accuracy score :  0.856\n",
    "\n",
    "cross validation mean score : 0.841 (+/- 0.035)\n",
    "\n",
    "Confusion Matrix:\n",
    "[[210  36]\n",
    " [ 36 218]]\n",
    "\n",
    "Some relevant metrics :\n",
    "              precision    recall  f1-score   support\n",
    "\n",
    "           0       0.85      0.85      0.85       246\n",
    "           1       0.86      0.86      0.86       254\n",
    "\n",
    "    accuracy                           0.86       500\n",
    "   macro avg       0.86      0.86      0.86       500\n",
    "weighted avg       0.86      0.86      0.86       500\n",
    "\n",
    "\"\"\""
   ]
  },
  {
   "cell_type": "markdown",
   "id": "9ca474c0",
   "metadata": {},
   "source": [
    "### Comments :\n",
    "Both false positive and false negative slightly decreased which led to a tiny increase in score."
   ]
  },
  {
   "cell_type": "markdown",
   "id": "602615f8",
   "metadata": {},
   "source": [
    "## Large BERT results"
   ]
  },
  {
   "cell_type": "code",
   "execution_count": null,
   "id": "f615a18f",
   "metadata": {},
   "outputs": [],
   "source": [
    "\"\"\"\n",
    "provides approximately the same results, nothing special to report\n",
    "\"\"\""
   ]
  },
  {
   "cell_type": "markdown",
   "id": "993f62c7",
   "metadata": {},
   "source": [
    "## Remarks"
   ]
  },
  {
   "cell_type": "markdown",
   "id": "4b73a81c",
   "metadata": {},
   "source": [
    "Both the original BERT and Large BERT (especially Large BERT!!) take time to process data but eventually provide better results. More captivating results are expected with more intricate data (larger datasets??). Finally, using the second method will (surely) further improve performance..."
   ]
  }
 ],
 "metadata": {
  "kernelspec": {
   "display_name": "Python 3 (ipykernel)",
   "language": "python",
   "name": "python3"
  },
  "language_info": {
   "codemirror_mode": {
    "name": "ipython",
    "version": 3
   },
   "file_extension": ".py",
   "mimetype": "text/x-python",
   "name": "python",
   "nbconvert_exporter": "python",
   "pygments_lexer": "ipython3",
   "version": "3.9.13"
  }
 },
 "nbformat": 4,
 "nbformat_minor": 5
}
